{
  "nbformat": 4,
  "nbformat_minor": 0,
  "metadata": {
    "colab": {
      "provenance": [],
      "collapsed_sections": []
    },
    "kernelspec": {
      "name": "python3",
      "display_name": "Python 3"
    },
    "language_info": {
      "name": "python"
    }
  },
  "cells": [
    {
      "cell_type": "code",
      "execution_count": null,
      "metadata": {
        "id": "Ry11iG0Uu3y_"
      },
      "outputs": [],
      "source": []
    },
    {
      "cell_type": "markdown",
      "source": [
        "# Weather app"
      ],
      "metadata": {
        "id": "8-gg6xmqu4WF"
      }
    },
    {
      "cell_type": "code",
      "source": [
        "from tempfile import TemporaryDirectory\n",
        "from tkinter import *\n",
        "import requests\n",
        "from urllib import request\n",
        "\n",
        "ventana = Tk()\n",
        "ventana.geometry(\"350x350\")\n",
        "\n",
        "# 7dbfa983fc8442e52222ce6a94f55d1a\n",
        "# https://api.openweathermap.org/data/2.5/weather?lat={lat}&lon={lon}&appid={API key}\n",
        "# https://api.openweathermap.org/data/2.5/weather?q={city name}\n",
        "\n",
        "\n",
        "def mostrar_respuesta(clima):\n",
        "    try:\n",
        "        nombre_ciudad = [\"name\"]\n",
        "        desc = clima[\"weather\"][0][\"description\"]\n",
        "        temp = clima[\"main\"][\"temp\"]\n",
        "\n",
        "        ciudad[\"text\"] = nombre_ciudad\n",
        "        temperatura[\"text\"] = str(int(temp)) + \"°C\"\n",
        "        descripcion[\"text\"] = desc\n",
        "        mostrar_respuesta(clima)\n",
        "    except:\n",
        "        ciudad[\"text\"] = \"Intenta nuevamente\"\n",
        "\n",
        "\n",
        "def clima_json(ciudad):\n",
        "    try:\n",
        "        API_key = \"7dbfa983fc8442e52222ce6a94f55d1a\"\n",
        "        URL = \"https://api.openweathermap.org/data/2.5/weather\"\n",
        "        parametros = {\"APPID\": API_key, \"q\": ciudad,\n",
        "                      \"Units\": \"metric\", \"lang\": \"es\"}\n",
        "        response = requests.get(URL, params=parametros)\n",
        "        print(response.json())\n",
        "\n",
        "    except:\n",
        "        print(\"Error!!!\")\n",
        "\n",
        "    print(clima[\"name\"])\n",
        "    print(clima[\"weather\"][0][\"description\"])\n",
        "    print(clima[\"main\"][\"temp\"])\n",
        "\n",
        "\n",
        "texto_ciudad = Entry(ventana, font=(\"Courier\", 20, \"normal\"), justify=\"center\")\n",
        "texto_ciudad.pack(padx=30, pady=30)\n",
        "\n",
        "obtener_clima = Button(ventana, text=\"Obtener clima\",\n",
        "                       font=(\"Courier\", 20, \"normal\"), command=lambda: clima(texto_ciudad.get))\n",
        "obtener_clima.pack()\n",
        "\n",
        "ciudad = Label(font=(\"Courier\", 20, \"normal\"))\n",
        "ciudad.pack(padx=20, pady=20)\n",
        "\n",
        "temperatura = Label(font=(\"Courier\", 50, \"normal\"))\n",
        "temperatura.pack(padx=10, pady=10)\n",
        "\n",
        "descripcion = Label(font=(\"Courier\", 20, \"normal\"))\n",
        "descripcion.pack(padx=10, pady=10)\n",
        "\n",
        "\n",
        "ventana.mainloop()\n"
      ],
      "metadata": {
        "id": "LM25cicBu7Rg"
      },
      "execution_count": null,
      "outputs": []
    }
  ]
}